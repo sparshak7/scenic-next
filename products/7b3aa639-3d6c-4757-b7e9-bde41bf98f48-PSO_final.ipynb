{
  "nbformat": 4,
  "nbformat_minor": 0,
  "metadata": {
    "colab": {
      "provenance": []
    },
    "kernelspec": {
      "name": "python3",
      "display_name": "Python 3"
    },
    "language_info": {
      "name": "python"
    }
  },
  "cells": [
    {
      "cell_type": "code",
      "execution_count": 81,
      "metadata": {
        "colab": {
          "base_uri": "https://localhost:8080/"
        },
        "id": "b-y7LxlYVqB-",
        "outputId": "3991cbb9-e170-419d-96a0-8e0702491673"
      },
      "outputs": [
        {
          "output_type": "stream",
          "name": "stdout",
          "text": [
            "The global best is:  [1.37134948 1.8880218 ]\n",
            "Value of the function is:  0.14340965115575022\n"
          ]
        }
      ],
      "source": [
        "import random\n",
        "import numpy as np\n",
        "\n",
        "def fitness_function(x1,x2):\n",
        "  f1 = (x2-(x1**2))**2\n",
        "  f2 = (1-x1)**2\n",
        "  return 100*f1 + f2\n",
        "\n",
        "\n",
        "\n",
        "def update_velocity(particle, velocity, pbest, gbest, c=0.1):\n",
        "  num_particle = len(particle)\n",
        "  new_velocity = np.array([0.0 for i in range(num_particle)])\n",
        "  r1 = 0.5949\n",
        "  r2 = 0.0855\n",
        "  w = 0.9\n",
        "  c1 = c\n",
        "  c2 = c\n",
        "  for i in range(num_particle):\n",
        "    new_velocity[i] = w*velocity[i] + c1*r1*(pbest[i]-particle[i])+c2*r2*(gbest[i]-particle[i])\n",
        "  return new_velocity\n",
        "\n",
        "\n",
        "def update_position(particle, velocity, upper_bound, lower_bound):\n",
        "  new_position = particle + velocity\n",
        "  new_position = np.clip(new_position, lower_bound, upper_bound)\n",
        "  return new_position\n",
        "  # if new_position.all() < lower_bound:\n",
        "  #   new_position = lower_bound\n",
        "  #   return new_position\n",
        "  # elif new_position.all() > upper_bound:\n",
        "  #   new_position = upper_bound\n",
        "  #   return new_position\n",
        "  # else:\n",
        "  #   return new_position\n",
        "\n",
        "\n",
        "def pso_2d(population, dimension, position_min, position_max, generation):\n",
        "  particles = [[random.uniform(position_min, position_max) for j in range(dimension)] for i in range(population)]\n",
        "  velocity = [[random.uniform(0,1) for j in range(dimension)] for i in range(population)]\n",
        "  pbest_position = particles\n",
        "  pbest_fitness = [fitness_function(p[0], p[1]) for p in particles]\n",
        "  gbest_index = np.argmin(pbest_fitness)\n",
        "  gbest_position = particles[gbest_index]\n",
        "\n",
        "  for t in range(generation):\n",
        "      for n in range(population):\n",
        "        velocity[n] = update_velocity(particles[n], velocity[n], pbest_position[n], gbest_position)\n",
        "        particles[n] = update_position(particles[n], velocity[n], position_max, position_min)\n",
        "\n",
        "      new_fitness = [fitness_function(p[0], p[1]) for p in particles]\n",
        "      new_pbest_index = np.argmin(new_fitness)\n",
        "      result = np.isclose(pbest_fitness[gbest_index], new_fitness[new_pbest_index], atol=1e-9)\n",
        "      if result == True:\n",
        "        break\n",
        "      pbest_fitness = new_fitness\n",
        "      g_best = particles[new_pbest_index]\n",
        "\n",
        "  print(\"The global best is: \", g_best)\n",
        "  print(\"Value of the function is: \", fitness_function(g_best[0], g_best[1]))\n",
        "\n",
        "\n",
        "pso_2d(20,2,-5.0,5.0,100)"
      ]
    }
  ]
}